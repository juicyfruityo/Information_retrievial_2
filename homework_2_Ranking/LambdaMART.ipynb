{
 "cells": [
  {
   "cell_type": "code",
   "execution_count": 1,
   "metadata": {},
   "outputs": [],
   "source": [
    "import numpy as np\n",
    "from xgboost import XGBRegressor"
   ]
  },
  {
   "cell_type": "code",
   "execution_count": 2,
   "metadata": {},
   "outputs": [],
   "source": [
    "X_train = []\n",
    "y_train = []\n",
    "with open('l2r/train.txt', 'r') as file:\n",
    "    i = 0\n",
    "    \n",
    "    while True:\n",
    "        line = file.readline()\n",
    "        if not line:\n",
    "            break\n",
    "        \n",
    "        i += 1\n",
    "        if i == 0:\n",
    "            print(line)\n",
    "\n",
    "        buf = line.split()\n",
    "        y = buf[0]\n",
    "        y_train.append(float(y))\n",
    "\n",
    "        x = np.array([-9.0]*(699+1))  # +1 для qid.\n",
    "        for elem in buf[1:-1]:\n",
    "            id, feat = elem.split(':')\n",
    "            if id == 'qid':\n",
    "                id = 0\n",
    "            x[int(id)] = float(feat)\n",
    "        X_train.append(x)\n",
    "            \n",
    "X_train = np.array(X_train)\n",
    "y_train = np.array(y_train)"
   ]
  },
  {
   "cell_type": "code",
   "execution_count": 3,
   "metadata": {},
   "outputs": [],
   "source": [
    "class Data:\n",
    "    def __init__(self, X, y):\n",
    "        self.X = X[:, 1:]  # без qid\n",
    "        self.y = y\n",
    "        self.qid = X[:, 0]\n",
    "        self.qid_unique = np.unique(X[:, 0])\n",
    "        self.qid_unique_index = []\n",
    "        \n",
    "    def _qid_unique_index(self):\n",
    "        for i in range(self.qid_unique.shape[0]):\n",
    "            indexes = np.where(self.qid == self.qid_unique[i])[0]\n",
    "            self.qid_unique_index.append(indexes)"
   ]
  },
  {
   "cell_type": "code",
   "execution_count": 4,
   "metadata": {},
   "outputs": [],
   "source": [
    "data = Data(X_train, y_train)\n",
    "data._qid_unique_index()"
   ]
  },
  {
   "cell_type": "code",
   "execution_count": 5,
   "metadata": {},
   "outputs": [],
   "source": [
    "def dcg(y_predict, y):\n",
    "    idx = np.argsort(y_predict)[::-1]\n",
    "    pred_y = y[idx]\n",
    "    return np.sum((np.power(2.0, pred_y) - 1) / np.log(np.arange(1, y.shape[0] + 1) + 1.0))\n",
    "\n",
    "def maxdcg(y):\n",
    "    y_sorted = np.sort(y[:y.shape[0]])[::-1]\n",
    "    return np.sum((np.power(2., y_sorted[:y.shape[0]]) - 1.) / np.log(np.arange(1, y.shape[0] + 1) + 1))\n",
    "\n",
    "def ndcg(y_predict, y):\n",
    "    return dcg(y_predict, y) / calc_maxdcg(y)\n",
    "\n",
    "def delta_z_func(y_predict, y):\n",
    "    p = np.argsort(y_predict)[::-1] + 1.\n",
    "    pow_rel = np.power(2., y)\n",
    "    log_den = np.arange(1, y.shape[0] + 1) / np.log(p + 1)\n",
    "    pow_rel_diff = pow_rel[:, None] - pow_rel[None, :]\n",
    "    log_den_diff = log_den[:, None] - log_den[None, :]\n",
    "    max_dcg = maxdcg(y)\n",
    "    if np.isclose(max_dcg, 0.):\n",
    "        return 0.\n",
    "    return np.abs(pow_rel_diff * log_den_diff) / max_dcg\n",
    "\n",
    "def lambda_ij(y_predict, y, delta_z):\n",
    "    sign = np.sign(y[:, None] - y[None, :])\n",
    "    sij = np.abs(y_predict[:, None] - y_predict[None, :])\n",
    "    return np.sum(-sign * delta_z / (1 + np.exp(sij)), axis=1)\n",
    "\n",
    "\n",
    "def hessian_func(y_predict, y, delta_z):\n",
    "    sij = np.abs(y_predict[:, None] - y_predict[None, :])\n",
    "    hessian = np.sum(delta_z / (1 + np.exp(sij)) / (1 + np.exp(-sij)), axis=1)\n",
    "    hessian[np.isclose(hessian, 0.)] = 1.\n",
    "    return hessian"
   ]
  },
  {
   "cell_type": "code",
   "execution_count": 9,
   "metadata": {},
   "outputs": [],
   "source": [
    "def objective(dataset):\n",
    "    def calc_objective(y, y_predict):\n",
    "\n",
    "        gradient = np.zeros([y.shape[0]])\n",
    "        hessian = np.zeros([y.shape[0]])\n",
    "        for i in range(dataset.qid_unique.shape[0]):\n",
    "            indexes = np.array(dataset.qid_unique_index[i])\n",
    "            delta_z = delta_z_func(y_predict[indexes], y[indexes])\n",
    "\n",
    "            gradient[indexes] = lambda_ij(y_predict[indexes], y[indexes], delta_z),\n",
    "            hessian[indexes] = hessian_func(y_predict[indexes], y[indexes], delta_z)\n",
    "\n",
    "        return gradient, hessian\n",
    "\n",
    "    return calc_objective"
   ]
  },
  {
   "cell_type": "code",
   "execution_count": 10,
   "metadata": {},
   "outputs": [],
   "source": [
    "params = {'objective': objective(data), 'max_depth': 8,\n",
    "          'tree_method':'gpu_hist', 'nthread': -1,\n",
    "          'n_estimators': 1000, 'learning_rate': 0.4}\n",
    "model = XGBRegressor(**params)"
   ]
  },
  {
   "cell_type": "code",
   "execution_count": 11,
   "metadata": {},
   "outputs": [
    {
     "name": "stdout",
     "output_type": "stream",
     "text": [
      "[00:08:17] WARNING: /workspace/src/objective/regression_obj.cu:152: reg:linear is now deprecated in favor of reg:squarederror.\n",
      "CPU times: user 1h 24s, sys: 3min 57s, total: 1h 4min 21s\n",
      "Wall time: 1h 4min 47s\n"
     ]
    },
    {
     "data": {
      "text/plain": [
       "XGBRegressor(base_score=0.5, booster='gbtree', colsample_bylevel=1,\n",
       "             colsample_bynode=1, colsample_bytree=1, gamma=0,\n",
       "             importance_type='gain', learning_rate=0.4, max_delta_step=0,\n",
       "             max_depth=8, min_child_weight=1, missing=None, n_estimators=1000,\n",
       "             n_jobs=1, nthread=-1,\n",
       "             objective=<function objective.<locals>.calc_objective at 0x7f93f5da6268>,\n",
       "             random_state=0, reg_alpha=0, reg_lambda=1, scale_pos_weight=1,\n",
       "             seed=None, silent=None, subsample=1, tree_method='gpu_hist',\n",
       "             verbosity=1)"
      ]
     },
     "execution_count": 11,
     "metadata": {},
     "output_type": "execute_result"
    }
   ],
   "source": [
    "%%time\n",
    "model.fit(data.X, data.y)"
   ]
  },
  {
   "cell_type": "code",
   "execution_count": null,
   "metadata": {},
   "outputs": [],
   "source": []
  },
  {
   "cell_type": "code",
   "execution_count": null,
   "metadata": {},
   "outputs": [],
   "source": []
  },
  {
   "cell_type": "code",
   "execution_count": 13,
   "metadata": {},
   "outputs": [],
   "source": [
    "X_test = []\n",
    "y_test = []\n",
    "with open('l2r/test.txt', 'r') as file:\n",
    "    i = 0\n",
    "    \n",
    "    while True:\n",
    "        line = file.readline()\n",
    "        if not line:\n",
    "            break\n",
    "        \n",
    "        i += 1\n",
    "        if i == 0:\n",
    "            print(line)\n",
    "\n",
    "        buf = line.split()\n",
    "        y = buf[0]\n",
    "        y_test.append(float(y))\n",
    "\n",
    "        x = np.array([-9.0]*(699+1))  # +1 для qid.\n",
    "        for elem in buf[1:-1]:\n",
    "            id, feat = elem.split(':')\n",
    "            if id == 'qid':\n",
    "                id = 0\n",
    "            x[int(id)] = float(feat)\n",
    "        X_test.append(x)\n",
    "            \n",
    "X_test = np.array(X_test)\n",
    "y_test = np.array(y_test)"
   ]
  },
  {
   "cell_type": "code",
   "execution_count": 14,
   "metadata": {},
   "outputs": [],
   "source": [
    "data_test = Data(X_test, y_test)\n",
    "data_test._qid_unique_index()"
   ]
  },
  {
   "cell_type": "code",
   "execution_count": 15,
   "metadata": {},
   "outputs": [],
   "source": [
    "with open('subm_' + 'v1' + '.csv', 'w') as file:\n",
    "    file.write('QueryId,DocumentId\\n')\n",
    "    doc_idx = 1\n",
    "    for i in range(len(data_test.qid_unique)):\n",
    "        X = data_test.X[data_test.qid_unique_index[i]]\n",
    "        qid = data_test.qid_unique[i]\n",
    "        y_pred = model.predict(X)\n",
    "        idx_sorted = np.argsort(y_pred.reshape(-1))[::-1]\n",
    "        for j in range(idx_sorted.shape[0]):\n",
    "            file.write(str(int(qid)) + ',' + str(doc_idx + idx_sorted[j]) + '\\n')\n",
    "        doc_idx += idx_sorted.shape[0]"
   ]
  }
 ],
 "metadata": {
  "kernelspec": {
   "display_name": "Python 3",
   "language": "python",
   "name": "python3"
  },
  "language_info": {
   "codemirror_mode": {
    "name": "ipython",
    "version": 3
   },
   "file_extension": ".py",
   "mimetype": "text/x-python",
   "name": "python",
   "nbconvert_exporter": "python",
   "pygments_lexer": "ipython3",
   "version": "3.7.3"
  }
 },
 "nbformat": 4,
 "nbformat_minor": 2
}
